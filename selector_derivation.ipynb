{
 "cells": [
  {
   "cell_type": "code",
   "execution_count": 1,
   "metadata": {},
   "outputs": [
    {
     "name": "stdout",
     "output_type": "stream",
     "text": [
      "Requirement already satisfied: darli in /home/leo/mambaforge/envs/feedback_stack/lib/python3.10/site-packages (0.2.4)\n",
      "Requirement already satisfied: mujoco in /home/leo/mambaforge/envs/feedback_stack/lib/python3.10/site-packages (3.1.1)\n",
      "Requirement already satisfied: robot_descriptions in /home/leo/mambaforge/envs/feedback_stack/lib/python3.10/site-packages (1.7.0)\n",
      "Requirement already satisfied: pin in /home/leo/mambaforge/envs/feedback_stack/lib/python3.10/site-packages (2.6.21)\n",
      "Requirement already satisfied: cmeel-casadi-kin-dyn==1.6.6 in /home/leo/mambaforge/envs/feedback_stack/lib/python3.10/site-packages (from darli) (1.6.6)\n",
      "Requirement already satisfied: cmeel in /home/leo/mambaforge/envs/feedback_stack/lib/python3.10/site-packages (from cmeel-casadi-kin-dyn==1.6.6->darli) (0.53.3)\n",
      "Requirement already satisfied: cmeel_casadi==0.1.1 in /home/leo/mambaforge/envs/feedback_stack/lib/python3.10/site-packages (from cmeel-casadi-kin-dyn==1.6.6->darli) (0.1.1)\n",
      "Requirement already satisfied: eigenpy==3.1.4 in /home/leo/mambaforge/envs/feedback_stack/lib/python3.10/site-packages (from cmeel-casadi-kin-dyn==1.6.6->darli) (3.1.4)\n",
      "Requirement already satisfied: cmeel-tinyxml==2.6.2.2 in /home/leo/mambaforge/envs/feedback_stack/lib/python3.10/site-packages (from cmeel-casadi-kin-dyn==1.6.6->darli) (2.6.2.2)\n",
      "Requirement already satisfied: cmeel-eigen==3.4.0.2 in /home/leo/mambaforge/envs/feedback_stack/lib/python3.10/site-packages (from cmeel-casadi-kin-dyn==1.6.6->darli) (3.4.0.2)\n",
      "Requirement already satisfied: cmeel-urdfdom_headers==1.1.0 in /home/leo/mambaforge/envs/feedback_stack/lib/python3.10/site-packages (from cmeel-casadi-kin-dyn==1.6.6->darli) (1.1.0)\n",
      "Requirement already satisfied: cmeel-urdfdom==3.1.1 in /home/leo/mambaforge/envs/feedback_stack/lib/python3.10/site-packages (from cmeel-casadi-kin-dyn==1.6.6->darli) (3.1.1)\n",
      "Requirement already satisfied: cmeel-boost~=1.83.0 in /home/leo/mambaforge/envs/feedback_stack/lib/python3.10/site-packages (from pin) (1.83.0)\n",
      "Requirement already satisfied: cmeel-console-bridge<2,>=1.0.2.2 in /home/leo/mambaforge/envs/feedback_stack/lib/python3.10/site-packages (from pin) (1.0.2.2)\n",
      "Requirement already satisfied: hpp-fcl<4,>=2.3.4 in /home/leo/mambaforge/envs/feedback_stack/lib/python3.10/site-packages (from pin) (2.4.0)\n",
      "Requirement already satisfied: absl-py in /home/leo/.local/lib/python3.10/site-packages (from mujoco) (1.4.0)\n",
      "Requirement already satisfied: etils[epath] in /home/leo/mambaforge/envs/feedback_stack/lib/python3.10/site-packages (from mujoco) (1.6.0)\n",
      "Requirement already satisfied: glfw in /home/leo/mambaforge/envs/feedback_stack/lib/python3.10/site-packages (from mujoco) (2.6.4)\n",
      "Requirement already satisfied: numpy in /home/leo/mambaforge/envs/feedback_stack/lib/python3.10/site-packages (from mujoco) (1.26.3)\n",
      "Requirement already satisfied: pyopengl in /home/leo/mambaforge/envs/feedback_stack/lib/python3.10/site-packages (from mujoco) (3.1.7)\n",
      "Requirement already satisfied: GitPython>=3.1.18 in /home/leo/mambaforge/envs/feedback_stack/lib/python3.10/site-packages (from robot_descriptions) (3.1.40)\n",
      "Requirement already satisfied: tqdm>=4.64.0 in /home/leo/mambaforge/envs/feedback_stack/lib/python3.10/site-packages (from robot_descriptions) (4.66.1)\n",
      "Requirement already satisfied: gitdb<5,>=4.0.1 in /home/leo/mambaforge/envs/feedback_stack/lib/python3.10/site-packages (from GitPython>=3.1.18->robot_descriptions) (4.0.11)\n",
      "Requirement already satisfied: cmeel-assimp<6,>=5.3.1 in /home/leo/mambaforge/envs/feedback_stack/lib/python3.10/site-packages (from hpp-fcl<4,>=2.3.4->pin) (5.3.1)\n",
      "Requirement already satisfied: cmeel-octomap<2,>=1.9.8.2 in /home/leo/mambaforge/envs/feedback_stack/lib/python3.10/site-packages (from hpp-fcl<4,>=2.3.4->pin) (1.9.8.2)\n",
      "Requirement already satisfied: cmeel-qhull<8.0.3,>=8.0.2.1 in /home/leo/mambaforge/envs/feedback_stack/lib/python3.10/site-packages (from hpp-fcl<4,>=2.3.4->pin) (8.0.2.1)\n",
      "Requirement already satisfied: tomli<3.0.0,>=2.0.1 in /home/leo/mambaforge/envs/feedback_stack/lib/python3.10/site-packages (from cmeel->cmeel-casadi-kin-dyn==1.6.6->darli) (2.0.1)\n",
      "Requirement already satisfied: fsspec in /home/leo/mambaforge/envs/feedback_stack/lib/python3.10/site-packages (from etils[epath]->mujoco) (2023.12.2)\n",
      "Requirement already satisfied: importlib_resources in /home/leo/mambaforge/envs/feedback_stack/lib/python3.10/site-packages (from etils[epath]->mujoco) (6.1.1)\n",
      "Requirement already satisfied: typing_extensions in /home/leo/mambaforge/envs/feedback_stack/lib/python3.10/site-packages (from etils[epath]->mujoco) (4.9.0)\n",
      "Requirement already satisfied: zipp in /home/leo/mambaforge/envs/feedback_stack/lib/python3.10/site-packages (from etils[epath]->mujoco) (3.17.0)\n",
      "Requirement already satisfied: smmap<6,>=3.0.1 in /home/leo/mambaforge/envs/feedback_stack/lib/python3.10/site-packages (from gitdb<5,>=4.0.1->GitPython>=3.1.18->robot_descriptions) (5.0.1)\n"
     ]
    }
   ],
   "source": [
    "!pip3 install darli mujoco robot_descriptions pin"
   ]
  },
  {
   "cell_type": "code",
   "execution_count": 2,
   "metadata": {},
   "outputs": [],
   "source": [
    "import mujoco\n",
    "import numpy as np\n",
    "from darli.backend import CasadiBackend, PinocchioBackend\n",
    "from darli.modeling import Functional, Robot\n",
    "from robot_descriptions.skydio_x2_description import URDF_PATH\n",
    "from robot_descriptions.skydio_x2_mj_description import MJCF_PATH\n",
    "\n",
    "np.set_printoptions(precision=6, suppress=True)\n",
    "np.random.seed(0)"
   ]
  },
  {
   "cell_type": "code",
   "execution_count": 3,
   "metadata": {},
   "outputs": [],
   "source": [
    "mjmodel = mujoco.MjModel.from_xml_path(MJCF_PATH)\n",
    "mjdata = mujoco.MjData(mjmodel)\n",
    "\n",
    "mjdata.qpos"
   ]
  },
  {
   "cell_type": "code",
   "execution_count": 5,
   "metadata": {},
   "outputs": [
    {
     "data": {
      "text/plain": [
       "array([-0.034602,  0.059678, -7.989081,  1.107806,  0.641039,  0.112918])"
      ]
     },
     "execution_count": 5,
     "metadata": {},
     "output_type": "execute_result"
    }
   ],
   "source": [
    "for act_id in range(4):\n",
    "    mjmodel.actuator(act_id).ctrlrange = np.array([-100, 100])\n",
    "\n",
    "original_q = mjdata.qpos.copy()\n",
    "u = np.random.uniform(0, 1, 4)\n",
    "\n",
    "mjdata.ctrl = u\n",
    "mujoco.mj_step(mjmodel, mjdata)\n",
    "\n",
    "mjdata.qacc"
   ]
  },
  {
   "cell_type": "markdown",
   "metadata": {},
   "source": [
    "## Check control and generalized force from MuJoCo"
   ]
  },
  {
   "cell_type": "code",
   "execution_count": 8,
   "metadata": {},
   "outputs": [
    {
     "data": {
      "text/plain": [
       "(array([0.548814, 0.715189, 0.602763, 0.544883]),\n",
       " array([ 0.000077, -0.000134,  2.411649,  0.040366,  0.01629 ,  0.004508]))"
      ]
     },
     "execution_count": 8,
     "metadata": {},
     "output_type": "execute_result"
    }
   ],
   "source": [
    "u, mjdata.qfrc_actuator"
   ]
  },
  {
   "cell_type": "markdown",
   "metadata": {},
   "source": [
    "## Load model into Darli / (same can be done with pinocchio)"
   ]
  },
  {
   "cell_type": "code",
   "execution_count": 9,
   "metadata": {},
   "outputs": [
    {
     "data": {
      "text/plain": [
       "array([[ 0.    ,  0.    ,  0.    ,  0.    ],\n",
       "       [ 0.    ,  0.    ,  0.    ,  0.    ],\n",
       "       [ 1.    ,  1.    ,  1.    ,  1.    ],\n",
       "       [-0.18  ,  0.18  ,  0.18  , -0.18  ],\n",
       "       [ 0.14  ,  0.14  , -0.14  , -0.14  ],\n",
       "       [-0.0201,  0.0201,  0.0201, -0.0201]])"
      ]
     },
     "execution_count": 9,
     "metadata": {},
     "output_type": "execute_result"
    }
   ],
   "source": [
    "darli_model = Functional(CasadiBackend(URDF_PATH))\n",
    "\n",
    "# length from center of mass to rotor\n",
    "rotors_to_com = np.array(\n",
    "    [[-0.14, -0.18, 0.05], [-0.14, 0.18, 0.05], [0.14, 0.18, 0.08], [0.14, -0.18, 0.08]]\n",
    ")\n",
    "\n",
    "kt = 1.0\n",
    "km = 0.0201  # from gear ratio in MJCF\n",
    "moment_selector = np.zeros((3, 4))\n",
    "\n",
    "for i in range(4):\n",
    "    moment_selector[:, i] = np.cross(rotors_to_com[i], np.array([0, 0, kt]))\n",
    "\n",
    "moment_selector += np.array([[0, 0, 0, 0], [0, 0, 0, 0], [-km, km, km, -km]])\n",
    "\n",
    "selector = np.vstack(\n",
    "    [\n",
    "        np.array([[0, 0, 0, 0], [0, 0, 0, 0], [1, 1, 1, 1]]),\n",
    "        moment_selector,\n",
    "    ]\n",
    ")\n",
    "\n",
    "darli_model.update_selector(selector)\n",
    "selector"
   ]
  },
  {
   "cell_type": "markdown",
   "metadata": {},
   "source": [
    "## Compare the result of generalized force from MuJoCo and Darli"
   ]
  },
  {
   "cell_type": "code",
   "execution_count": 10,
   "metadata": {},
   "outputs": [
    {
     "data": {
      "text/plain": [
       "array([0.      , 0.      , 2.411649, 0.040366, 0.01629 , 0.004508])"
      ]
     },
     "execution_count": 10,
     "metadata": {},
     "output_type": "execute_result"
    }
   ],
   "source": [
    "selector @ u"
   ]
  },
  {
   "cell_type": "markdown",
   "metadata": {},
   "source": [
    "## Compare the result of forward dynamics in MuJoCo and Darli"
   ]
  },
  {
   "cell_type": "code",
   "execution_count": 11,
   "metadata": {},
   "outputs": [
    {
     "data": {
      "text/plain": [
       "DM([-0.0345919, 0.05978, -7.98989, 1.10781, 0.641039, 0.112906])"
      ]
     },
     "execution_count": 11,
     "metadata": {},
     "output_type": "execute_result"
    }
   ],
   "source": [
    "pinq = original_q\n",
    "# scalar first to scalar last\n",
    "pinq[[3, 4, 5, 6]] = pinq[[4, 5, 6, 3]]\n",
    "\n",
    "darli_model.forward_dynamics(pinq, np.zeros(6), mjdata.ctrl)"
   ]
  }
 ],
 "metadata": {
  "kernelspec": {
   "display_name": "venv",
   "language": "python",
   "name": "python3"
  },
  "language_info": {
   "codemirror_mode": {
    "name": "ipython",
    "version": 3
   },
   "file_extension": ".py",
   "mimetype": "text/x-python",
   "name": "python",
   "nbconvert_exporter": "python",
   "pygments_lexer": "ipython3",
   "version": "3.10.13"
  }
 },
 "nbformat": 4,
 "nbformat_minor": 2
}
